{
 "cells": [
  {
   "cell_type": "markdown",
   "id": "3cee0f36-7b72-400c-ab28-4b3897a09c5d",
   "metadata": {},
   "source": [
    "# NumPy Arrays"
   ]
  },
  {
   "cell_type": "markdown",
   "id": "4e3a7ec6-df10-4a5b-88de-9c90c40eaa38",
   "metadata": {},
   "source": [
    "before proceeding towards pandas data structure, let us have a brief review of Numpy array because\n",
    "1. Pandas some function return result in form of numpy array\n",
    "2. It will give you a jumstart with data structure"
   ]
  },
  {
   "cell_type": "markdown",
   "id": "80c221b7-36b3-412f-9a27-4e735b761504",
   "metadata": {},
   "source": [
    "Numpy(\"Numerical python\" or\"Numeric python\") is an open source module of python that provides functions for fast mathematical computation arrays and matrices"
   ]
  },
  {
   "cell_type": "markdown",
   "id": "87abb353-079a-4bd4-a4fa-d923629c16c1",
   "metadata": {},
   "source": [
    "Numpy array has two forms\n",
    "1. 1D\n",
    "2. 2D"
   ]
  },
  {
   "cell_type": "markdown",
   "id": "74b5a9a7-88fa-40a6-8720-c656366d28ed",
   "metadata": {},
   "source": [
    "import numpy as np\n",
    "lst = [1,2,3,4]\n",
    "al=np.array(lst)\n",
    "lst\n",
    "print(al)"
   ]
  },
  {
   "cell_type": "code",
   "execution_count": 2,
   "id": "020f8ed5-517a-4d4d-8cdc-8cea0426b148",
   "metadata": {},
   "outputs": [],
   "source": [
    "## NumPy array Vs python lists"
   ]
  },
  {
   "cell_type": "markdown",
   "id": "a7ac86d2-0ab6-4a3e-8a9d-6f7b184157c9",
   "metadata": {},
   "source": [
    "although Numpy array also holds elements like pyhton Lists, yet numpy array are different data structures from python list. The key difference are-"
   ]
  },
  {
   "cell_type": "markdown",
   "id": "e41d6ee1-9df3-4f22-a55b-06ccc7cfc1f7",
   "metadata": {},
   "source": [
    "Once a numpy array is created, you cannot change its size. you will have to create a new array or overwrite the existing one."
   ]
  },
  {
   "cell_type": "markdown",
   "id": "6d44af28-d61c-456b-a65a-b4cca8b0c83a",
   "metadata": {},
   "source": [
    "Numpy array contain elements of homogenous type, unlike python list"
   ]
  },
  {
   "cell_type": "markdown",
   "id": "6b7fdeb1-89b5-4cf1-b435-302df3a0d11f",
   "metadata": {},
   "source": [
    "An equivalent Numpy array occupies much less space than a Python list"
   ]
  },
  {
   "cell_type": "markdown",
   "id": "0e92d5ca-944b-4aaa-8347-116594e7b7bf",
   "metadata": {},
   "source": [
    "NumPy array supports Vectorized operation, i.e. you need to perform any function on every item one byone ehich is not in"
   ]
  },
  {
   "cell_type": "code",
   "execution_count": 3,
   "id": "8a3c3958-d45d-46a4-83ce-0e43fb12789f",
   "metadata": {},
   "outputs": [
    {
     "data": {
      "text/plain": [
       "array([3, 4, 5, 6])"
      ]
     },
     "execution_count": 3,
     "metadata": {},
     "output_type": "execute_result"
    }
   ],
   "source": [
    "import numpy as np\n",
    "lst = [1,2,3,4]\n",
    "al=np.array(lst)\n",
    "al + 2"
   ]
  },
  {
   "cell_type": "markdown",
   "id": "fd2892f2-7366-4ddf-af00-107aa2a03415",
   "metadata": {},
   "source": [
    "# Way to create NumPy Arrays"
   ]
  },
  {
   "cell_type": "markdown",
   "id": "dca97f2b-7bef-4bf4-9550-3a7ee11087ee",
   "metadata": {},
   "source": [
    "1. array() function can be used to create array- "
   ]
  },
  {
   "cell_type": "markdown",
   "id": "8ab2fee5-441c-473f-9fd6-63a53ecb4961",
   "metadata": {},
   "source": [
    "NumPy.array(<arrayconvertible object>,[<datatype>])"
   ]
  },
  {
   "cell_type": "markdown",
   "id": "0592c872-9bac-45e4-a4f3-fb53b679776d",
   "metadata": {},
   "source": [
    "* Assuming NumPy has been imported as np."
   ]
  },
  {
   "cell_type": "code",
   "execution_count": 4,
   "id": "b29f6214-2f7c-4b98-bd60-ae3e530a4205",
   "metadata": {},
   "outputs": [
    {
     "data": {
      "text/plain": [
       "array([2. , 5.2, 1. ])"
      ]
     },
     "execution_count": 4,
     "metadata": {},
     "output_type": "execute_result"
    }
   ],
   "source": [
    "import numpy as np\n",
    "narl=np.array([2,5.2,1.0])\n",
    "narl"
   ]
  },
  {
   "cell_type": "markdown",
   "id": "d35018d2-9d8f-4a23-a910-213a2174aa9d",
   "metadata": {},
   "source": [
    "## Creating array by specifying own datatypes-"
   ]
  },
  {
   "cell_type": "code",
   "execution_count": 5,
   "id": "eb074489-5537-4c3c-8a2e-b1edf5da66ff",
   "metadata": {},
   "outputs": [
    {
     "data": {
      "text/plain": [
       "array([1, 2, 3, 4], dtype=int64)"
      ]
     },
     "execution_count": 5,
     "metadata": {},
     "output_type": "execute_result"
    }
   ],
   "source": [
    "l=[1,2,3,4]\n",
    "ar=np.array(l,dtype=np.int64)\n",
    "ar"
   ]
  },
  {
   "cell_type": "markdown",
   "id": "51190d3b-1e54-41f0-9cc8-936f51d4999f",
   "metadata": {},
   "source": [
    "## to check type,dtype and size-"
   ]
  },
  {
   "cell_type": "code",
   "execution_count": 6,
   "id": "4331b962-83aa-4ac2-86ac-54e46a521d43",
   "metadata": {},
   "outputs": [
    {
     "data": {
      "text/plain": [
       "array([1, 2, 3, 4], dtype=int64)"
      ]
     },
     "execution_count": 6,
     "metadata": {},
     "output_type": "execute_result"
    }
   ],
   "source": [
    "l=[1,2,3,4]\n",
    "ar=np.array(l,dtype=np.int64)\n",
    "ar"
   ]
  },
  {
   "cell_type": "code",
   "execution_count": 7,
   "id": "06f1f16e-a0e8-4f10-9653-0c627d939159",
   "metadata": {},
   "outputs": [
    {
     "name": "stdout",
     "output_type": "stream",
     "text": [
      "<class 'numpy.ndarray'>\n"
     ]
    }
   ],
   "source": [
    "print(type(ar))"
   ]
  },
  {
   "cell_type": "code",
   "execution_count": 8,
   "id": "53b6dcb7-c345-4cb1-bfc5-c65b9d214706",
   "metadata": {},
   "outputs": [
    {
     "name": "stdout",
     "output_type": "stream",
     "text": [
      "int64\n"
     ]
    }
   ],
   "source": [
    "print(ar.dtype)"
   ]
  },
  {
   "cell_type": "code",
   "execution_count": 9,
   "id": "b7afee0e-caa0-447c-835d-2993f6afcc58",
   "metadata": {},
   "outputs": [
    {
     "name": "stdout",
     "output_type": "stream",
     "text": [
      "8\n"
     ]
    }
   ],
   "source": [
    "print(ar.itemsize)"
   ]
  },
  {
   "cell_type": "markdown",
   "id": "d73745b6-d60d-44c3-884b-edce8900f48b",
   "metadata": {},
   "source": [
    "## 2.Creating ndarray using fromiter()-"
   ]
  },
  {
   "cell_type": "markdown",
   "id": "8c66530d-64fb-4df3-a872-568f52323698",
   "metadata": {},
   "source": [
    "The fromiter() function is useful when you want to create an ndarray from a non-numeric sequence"
   ]
  },
  {
   "cell_type": "markdown",
   "id": "8f5d061e-c35e-4882-b6d1-36bb1d62cb83",
   "metadata": {},
   "source": [
    "numpy.fromiter(<iterable sequence name>,<target data type>,[<count>])"
   ]
  },
  {
   "cell_type": "markdown",
   "id": "6ff369ea-96d0-4aea-8053-2b18b16ad5f4",
   "metadata": {},
   "source": [
    "ad={1:\"A\",2:\"B\",3:\"C\",4:\"D\",5:\"E\"}\n",
    "ar2=np.fromiter(ad,dtype=np.int32)\n",
    "print(ar2)"
   ]
  },
  {
   "cell_type": "code",
   "execution_count": 11,
   "id": "2df6697d-a499-44ac-8599-dc914f8f043d",
   "metadata": {},
   "outputs": [
    {
     "data": {
      "text/plain": [
       "dtype('int64')"
      ]
     },
     "execution_count": 11,
     "metadata": {},
     "output_type": "execute_result"
    }
   ],
   "source": [
    "ar.dtype"
   ]
  },
  {
   "cell_type": "code",
   "execution_count": 12,
   "id": "e83a0752-ee48-4e23-8342-97c9af6a5d46",
   "metadata": {},
   "outputs": [
    {
     "data": {
      "text/plain": [
       "8"
      ]
     },
     "execution_count": 12,
     "metadata": {},
     "output_type": "execute_result"
    }
   ],
   "source": [
    "ar.itemsize"
   ]
  },
  {
   "cell_type": "code",
   "execution_count": null,
   "id": "6d031af0-0d85-4820-875b-c8cdac2969bb",
   "metadata": {},
   "outputs": [],
   "source": [
    "ar=[0][3]"
   ]
  },
  {
   "cell_type": "markdown",
   "id": "488891d4-3fb0-4b00-8631-2711cdeafc9c",
   "metadata": {},
   "source": [
    "## 3.arange() function is used to create array from a range."
   ]
  },
  {
   "cell_type": "markdown",
   "id": "0b69f9ae-98b4-4bba-be45-1b34900bd59d",
   "metadata": {},
   "source": [
    "<arrayname>=numpy.arange([start]),stop,[step],[dtype]"
   ]
  },
  {
   "cell_type": "code",
   "execution_count": 16,
   "id": "1cc7f253-be56-41ee-a4d5-c781c09eba37",
   "metadata": {},
   "outputs": [
    {
     "data": {
      "text/plain": [
       "array([0, 1, 2, 3, 4])"
      ]
     },
     "execution_count": 16,
     "metadata": {},
     "output_type": "execute_result"
    }
   ],
   "source": [
    "import numpy as np\n",
    "arr1=np.arange(5)\n",
    "arr1"
   ]
  },
  {
   "cell_type": "markdown",
   "id": "13884799-205f-414d-a0ce-90050057b5e8",
   "metadata": {},
   "source": [
    "## 4.linspace() function can be used to prepare array of range"
   ]
  },
  {
   "cell_type": "code",
   "execution_count": 17,
   "id": "a1503453-fa69-46bd-bc55-6f1d1cb67723",
   "metadata": {},
   "outputs": [
    {
     "data": {
      "text/plain": [
       "array([2. , 2.2, 2.4, 2.6, 2.8, 3. ])"
      ]
     },
     "execution_count": 17,
     "metadata": {},
     "output_type": "execute_result"
    }
   ],
   "source": [
    "import numpy as np\n",
    "arr3 = np.linspace(2,3,6)\n",
    "arr3"
   ]
  },
  {
   "cell_type": "code",
   "execution_count": 18,
   "id": "0e82be59-59b9-4bcf-bf84-cd930a369ff9",
   "metadata": {},
   "outputs": [
    {
     "data": {
      "text/plain": [
       "array([2.5       , 2.85714286, 3.21428571, 3.57142857, 3.92857143,\n",
       "       4.28571429, 4.64285714, 5.        ])"
      ]
     },
     "execution_count": 18,
     "metadata": {},
     "output_type": "execute_result"
    }
   ],
   "source": [
    "import numpy as np\n",
    "arr4 = np.linspace(2.5,5,8)\n",
    "arr4"
   ]
  },
  {
   "cell_type": "markdown",
   "id": "d018cfa1-9212-4062-8d11-e8dc6e425ed0",
   "metadata": {},
   "source": [
    "# 2D NumPy array"
   ]
  },
  {
   "cell_type": "code",
   "execution_count": 19,
   "id": "b15a2117-9243-4ec7-8934-86f5da8f9860",
   "metadata": {},
   "outputs": [
    {
     "data": {
      "text/plain": [
       "24"
      ]
     },
     "execution_count": 19,
     "metadata": {},
     "output_type": "execute_result"
    }
   ],
   "source": [
    "import numpy as np\n",
    "A=np.array([[10,11,12,13],[21,22,23,24]])\n",
    "A[1,3]"
   ]
  },
  {
   "cell_type": "code",
   "execution_count": 20,
   "id": "dcf56262-e898-4639-90c3-033fa0a42acd",
   "metadata": {},
   "outputs": [
    {
     "data": {
      "text/plain": [
       "24"
      ]
     },
     "execution_count": 20,
     "metadata": {},
     "output_type": "execute_result"
    }
   ],
   "source": [
    "A[1][3]"
   ]
  },
  {
   "cell_type": "code",
   "execution_count": 21,
   "id": "618d92db-70bb-4c9d-a9e0-4704bf52d2a6",
   "metadata": {},
   "outputs": [
    {
     "data": {
      "text/plain": [
       "array([[10, 11, 12, 13],\n",
       "       [21, 22, 23, 24]])"
      ]
     },
     "execution_count": 21,
     "metadata": {},
     "output_type": "execute_result"
    }
   ],
   "source": [
    "A"
   ]
  },
  {
   "cell_type": "code",
   "execution_count": 22,
   "id": "fcd1e423-3e50-4bd8-8d42-0bc950f15e7e",
   "metadata": {},
   "outputs": [
    {
     "name": "stdout",
     "output_type": "stream",
     "text": [
      "[[10 11 12 13]\n",
      " [21 22 23 24]]\n"
     ]
    }
   ],
   "source": [
    "print(A)"
   ]
  },
  {
   "cell_type": "code",
   "execution_count": 23,
   "id": "5645256d-f077-42bc-81aa-2adf8584e38e",
   "metadata": {},
   "outputs": [
    {
     "data": {
      "text/plain": [
       "(numpy.ndarray, numpy.ndarray)"
      ]
     },
     "execution_count": 23,
     "metadata": {},
     "output_type": "execute_result"
    }
   ],
   "source": [
    "type(A), type(al)"
   ]
  },
  {
   "cell_type": "code",
   "execution_count": 24,
   "id": "d09f3dc4-0820-457c-83f3-ef620b900fab",
   "metadata": {},
   "outputs": [
    {
     "data": {
      "text/plain": [
       "(4,)"
      ]
     },
     "execution_count": 24,
     "metadata": {},
     "output_type": "execute_result"
    }
   ],
   "source": [
    "al.shape"
   ]
  },
  {
   "cell_type": "code",
   "execution_count": 25,
   "id": "7ebec10c-2bd0-4902-bf5e-710e68edb536",
   "metadata": {},
   "outputs": [
    {
     "data": {
      "text/plain": [
       "(2, 4)"
      ]
     },
     "execution_count": 25,
     "metadata": {},
     "output_type": "execute_result"
    }
   ],
   "source": [
    "A.shape"
   ]
  },
  {
   "cell_type": "code",
   "execution_count": 26,
   "id": "d596e0ac-fe62-4185-8580-1948c9a9b190",
   "metadata": {},
   "outputs": [
    {
     "data": {
      "text/plain": [
       "4"
      ]
     },
     "execution_count": 26,
     "metadata": {},
     "output_type": "execute_result"
    }
   ],
   "source": [
    "A.itemsize"
   ]
  },
  {
   "cell_type": "markdown",
   "id": "5505aacd-79df-4498-98e9-161d8f54fbed",
   "metadata": {},
   "source": [
    "## 2.Creating 2D ndarrays using arange()-"
   ]
  },
  {
   "cell_type": "markdown",
   "id": "b2de548a-b8a6-4612-8dd5-81fa83ea83af",
   "metadata": {},
   "source": [
    "In the similar manner as we have created 1D ndarrays with arange()function,we can also create 2D ndarrays with range()function along with reshape()."
   ]
  },
  {
   "cell_type": "markdown",
   "id": "65fbb5a9-93b2-4f96-89a3-1c494841a6cd",
   "metadata": {},
   "source": [
    "ar1=np.arange(10)\n",
    "ar1"
   ]
  },
  {
   "cell_type": "markdown",
   "id": "937838a9-40db-46ea-b959-dd4a803b8848",
   "metadata": {},
   "source": [
    "## 3.Arrays Creation Alternative Methods"
   ]
  },
  {
   "cell_type": "code",
   "execution_count": 60,
   "id": "4b74d928-f4d2-4178-b95c-59b5b5f63049",
   "metadata": {},
   "outputs": [
    {
     "data": {
      "text/plain": [
       "array([0, 1, 2, 3, 4, 5, 6, 7, 8, 9])"
      ]
     },
     "execution_count": 60,
     "metadata": {},
     "output_type": "execute_result"
    }
   ],
   "source": [
    "ar1=np.arange(10)\n",
    "ar1"
   ]
  },
  {
   "cell_type": "code",
   "execution_count": 61,
   "id": "b66209f3-9089-4b0b-b632-31e7423d929f",
   "metadata": {},
   "outputs": [
    {
     "data": {
      "text/plain": [
       "array([[0, 1],\n",
       "       [2, 3],\n",
       "       [4, 5],\n",
       "       [6, 7],\n",
       "       [8, 9]])"
      ]
     },
     "execution_count": 61,
     "metadata": {},
     "output_type": "execute_result"
    }
   ],
   "source": [
    "ar3=ar1.reshape(5,2)\n",
    "ar3"
   ]
  },
  {
   "cell_type": "markdown",
   "id": "bfa6e255-19e0-47a7-b51c-6759a14db342",
   "metadata": {},
   "source": [
    "a. Using empty()-"
   ]
  },
  {
   "cell_type": "markdown",
   "id": "c25638d3-a2bc-4727-b69f-dcdd272bb538",
   "metadata": {},
   "source": [
    "empty()function can be used to create empty array or an unintialized array of specified shape and dtype"
   ]
  },
  {
   "cell_type": "code",
   "execution_count": 28,
   "id": "9fd48f27-7475-498e-b64b-5356b4ac3bbe",
   "metadata": {},
   "outputs": [
    {
     "data": {
      "text/plain": [
       "array([[4611686018427387904, 4612136378390124954, 4612586738352862003],\n",
       "       [4613037098315599053, 4613487458278336102, 4613937818241073152]],\n",
       "      dtype=int64)"
      ]
     },
     "execution_count": 28,
     "metadata": {},
     "output_type": "execute_result"
    }
   ],
   "source": [
    "arr1=np.empty([2,3],dtype=np.int64,order='C')\n",
    "arr1"
   ]
  },
  {
   "cell_type": "code",
   "execution_count": 29,
   "id": "2f81b687-7e94-4315-a526-93333c781ede",
   "metadata": {},
   "outputs": [
    {
     "data": {
      "text/plain": [
       "array([[1, 1, 1],\n",
       "       [1, 1, 1]], dtype=int64)"
      ]
     },
     "execution_count": 29,
     "metadata": {},
     "output_type": "execute_result"
    }
   ],
   "source": [
    "arr1=np.ones([2,3],dtype=np.int64,order='C')\n",
    "arr1"
   ]
  },
  {
   "cell_type": "markdown",
   "id": "419f1609-4a62-4f5b-b408-24ef098bbe8f",
   "metadata": {},
   "source": [
    "## Array Slicing"
   ]
  },
  {
   "cell_type": "markdown",
   "id": "49cb2303-9d7a-4b0e-8643-ec6720433c65",
   "metadata": {},
   "source": [
    "it is possible to extract subnet of nimpy array using slices, just like lists"
   ]
  },
  {
   "cell_type": "markdown",
   "id": "a9d1ecc0-8d3b-44b3-971f-3a2a50b70282",
   "metadata": {},
   "source": [
    "* when<start><stop>or<step> values are not specified then python will assume their default values as:"
   ]
  },
  {
   "cell_type": "code",
   "execution_count": 30,
   "id": "6a78bcad-2694-4f8f-97fe-bd0dc9806f17",
   "metadata": {},
   "outputs": [
    {
     "data": {
      "text/plain": [
       "array([ 8, 10, 12, 14])"
      ]
     },
     "execution_count": 30,
     "metadata": {},
     "output_type": "execute_result"
    }
   ],
   "source": [
    "arr=np.array([2,4,6,8,10,12,14,16])\n",
    "arr[3:7]"
   ]
  },
  {
   "cell_type": "code",
   "execution_count": 31,
   "id": "c6231cf6-7af4-4345-86b8-679ac2635d68",
   "metadata": {},
   "outputs": [
    {
     "data": {
      "text/plain": [
       "array([ 2,  4,  6,  8, 10])"
      ]
     },
     "execution_count": 31,
     "metadata": {},
     "output_type": "execute_result"
    }
   ],
   "source": [
    "arr[:5]"
   ]
  },
  {
   "cell_type": "code",
   "execution_count": 32,
   "id": "f574b15a-64c4-4dc9-9c96-2a78342a4443",
   "metadata": {},
   "outputs": [
    {
     "data": {
      "text/plain": [
       "array([10, 12, 14, 16])"
      ]
     },
     "execution_count": 32,
     "metadata": {},
     "output_type": "execute_result"
    }
   ],
   "source": [
    "arr[4:]"
   ]
  },
  {
   "cell_type": "code",
   "execution_count": 33,
   "id": "3b4377b4-83a8-48c8-bcc7-923195069c27",
   "metadata": {},
   "outputs": [
    {
     "data": {
      "text/plain": [
       "array([ 2,  4,  6,  8, 10, 12])"
      ]
     },
     "execution_count": 33,
     "metadata": {},
     "output_type": "execute_result"
    }
   ],
   "source": [
    "arr[:-2]"
   ]
  },
  {
   "cell_type": "code",
   "execution_count": 34,
   "id": "acff460c-a212-4d2e-9782-b8a0e383f6a3",
   "metadata": {},
   "outputs": [
    {
     "data": {
      "text/plain": [
       "array([ 2,  4,  6,  8, 10])"
      ]
     },
     "execution_count": 34,
     "metadata": {},
     "output_type": "execute_result"
    }
   ],
   "source": [
    "arr[:-3]"
   ]
  },
  {
   "cell_type": "code",
   "execution_count": 35,
   "id": "a7e846c0-d8e9-4734-84f3-81df33ea1e42",
   "metadata": {},
   "outputs": [
    {
     "data": {
      "text/plain": [
       "array([ 6, 10, 14])"
      ]
     },
     "execution_count": 35,
     "metadata": {},
     "output_type": "execute_result"
    }
   ],
   "source": [
    "arr[2:7:2]"
   ]
  },
  {
   "cell_type": "markdown",
   "id": "14dbfcda-c7c7-4171-89d9-d3f6e0a62d60",
   "metadata": {},
   "source": [
    "## Joining or concatenating numpy Arrys "
   ]
  },
  {
   "cell_type": "markdown",
   "id": "0db8116e-062a-44c1-82a9-dfe94ba47d93",
   "metadata": {},
   "source": [
    "for joining or concatenating of two or more existing ndarrays,python provides following function \n",
    "1. hstack () and vstack() \n",
    "2. concatinate"
   ]
  },
  {
   "cell_type": "code",
   "execution_count": 36,
   "id": "b431568b-a48f-464f-9248-e5d096acbbc5",
   "metadata": {},
   "outputs": [],
   "source": [
    "list1=([1,2,3,4,5])"
   ]
  },
  {
   "cell_type": "code",
   "execution_count": 37,
   "id": "785817cc-8cc6-4e8d-801a-ca41d90366e6",
   "metadata": {},
   "outputs": [],
   "source": [
    "list2=([6,7,8,9,10])"
   ]
  },
  {
   "cell_type": "code",
   "execution_count": 38,
   "id": "0dcec5c0-c0a0-4382-a8c1-e5bdf8d949d7",
   "metadata": {},
   "outputs": [
    {
     "data": {
      "text/plain": [
       "array([1, 2, 3, 4, 5])"
      ]
     },
     "execution_count": 38,
     "metadata": {},
     "output_type": "execute_result"
    }
   ],
   "source": [
    "\n",
    "a1=np.array(list1)\n",
    "a1\n"
   ]
  },
  {
   "cell_type": "code",
   "execution_count": 39,
   "id": "fba2a138-39e7-486b-9b17-ebd2f256b7f6",
   "metadata": {},
   "outputs": [
    {
     "data": {
      "text/plain": [
       "array([ 6,  7,  8,  9, 10])"
      ]
     },
     "execution_count": 39,
     "metadata": {},
     "output_type": "execute_result"
    }
   ],
   "source": [
    "a2=np.array(list2)\n",
    "a2"
   ]
  },
  {
   "cell_type": "code",
   "execution_count": 40,
   "id": "03fa2ddf-e53a-4664-a549-bca05bde3ccc",
   "metadata": {},
   "outputs": [
    {
     "data": {
      "text/plain": [
       "array([ 1,  2,  3,  4,  5,  6,  7,  8,  9, 10])"
      ]
     },
     "execution_count": 40,
     "metadata": {},
     "output_type": "execute_result"
    }
   ],
   "source": [
    "join1=np.hstack((a1,a2))\n",
    "join1"
   ]
  },
  {
   "cell_type": "code",
   "execution_count": 41,
   "id": "36d573d1-2ddc-48fe-bb8e-ee3cb01f73b8",
   "metadata": {},
   "outputs": [
    {
     "data": {
      "text/plain": [
       "array([[ 1,  2,  3,  4,  5],\n",
       "       [ 6,  7,  8,  9, 10]])"
      ]
     },
     "execution_count": 41,
     "metadata": {},
     "output_type": "execute_result"
    }
   ],
   "source": [
    "join2=np.vstack((a1,a2))\n",
    "join2"
   ]
  },
  {
   "cell_type": "markdown",
   "id": "d1749694-5e5f-4d4c-b3b0-d5889655fc86",
   "metadata": {},
   "source": [
    "## Combining Existing Arrays Using Concatenate()-"
   ]
  },
  {
   "cell_type": "code",
   "execution_count": 42,
   "id": "fe66af71-f323-4ce5-9af9-1fa66d172134",
   "metadata": {},
   "outputs": [
    {
     "data": {
      "text/plain": [
       "array([[1, 2, 3],\n",
       "       [4, 5, 6],\n",
       "       [7, 8, 9]])"
      ]
     },
     "execution_count": 42,
     "metadata": {},
     "output_type": "execute_result"
    }
   ],
   "source": [
    "a1=np.array([1,2,3,4,5,6,7,8,9]).reshape(3,3)\n",
    "a1"
   ]
  },
  {
   "cell_type": "code",
   "execution_count": 43,
   "id": "cba8842a-3a82-4031-a314-fd893fad4669",
   "metadata": {},
   "outputs": [
    {
     "data": {
      "text/plain": [
       "array([[1, 2, 3],\n",
       "       [4, 5, 6]])"
      ]
     },
     "execution_count": 43,
     "metadata": {},
     "output_type": "execute_result"
    }
   ],
   "source": [
    "a2=np.array([1,2,3,4,5,6]).reshape(2,3)\n",
    "a2"
   ]
  },
  {
   "cell_type": "code",
   "execution_count": 44,
   "id": "f3deecb0-e5e0-4cfa-b931-2b20f187c58b",
   "metadata": {},
   "outputs": [
    {
     "data": {
      "text/plain": [
       "array([[1, 2],\n",
       "       [3, 4],\n",
       "       [5, 6]])"
      ]
     },
     "execution_count": 44,
     "metadata": {},
     "output_type": "execute_result"
    }
   ],
   "source": [
    "a3=np.array([1,2,3,4,5,6]).reshape(3,2)\n",
    "a3"
   ]
  },
  {
   "cell_type": "code",
   "execution_count": 45,
   "id": "fa8df758-7c25-421f-9079-ac13b437e7ff",
   "metadata": {},
   "outputs": [
    {
     "data": {
      "text/plain": [
       "array([[1],\n",
       "       [2],\n",
       "       [3]])"
      ]
     },
     "execution_count": 45,
     "metadata": {},
     "output_type": "execute_result"
    }
   ],
   "source": [
    "a4=np.array([1,2,3]).reshape(3,1)\n",
    "a4"
   ]
  },
  {
   "cell_type": "code",
   "execution_count": 46,
   "id": "86ac28e3-9df8-4446-b3fb-ac95d2c6190f",
   "metadata": {},
   "outputs": [
    {
     "data": {
      "text/plain": [
       "array([[1, 2, 3],\n",
       "       [4, 5, 6],\n",
       "       [7, 8, 9],\n",
       "       [1, 2, 3],\n",
       "       [4, 5, 6]])"
      ]
     },
     "execution_count": 46,
     "metadata": {},
     "output_type": "execute_result"
    }
   ],
   "source": [
    "j1=np.concatenate((a1,a2),axis=0)\n",
    "j1"
   ]
  },
  {
   "cell_type": "code",
   "execution_count": 47,
   "id": "90091492-c370-4d20-8f22-c57bfff8aa9d",
   "metadata": {},
   "outputs": [
    {
     "data": {
      "text/plain": [
       "array([[ 0.,  1.,  2.,  3.,  4.,  5.],\n",
       "       [ 6.,  7.,  8.,  9., 10., 11.],\n",
       "       [12., 13., 14., 15., 16., 17.],\n",
       "       [18., 19., 20., 21., 22., 23.]])"
      ]
     },
     "execution_count": 47,
     "metadata": {},
     "output_type": "execute_result"
    }
   ],
   "source": [
    "ary=np.arange(24.0).reshape(4,6)\n",
    "ary"
   ]
  },
  {
   "cell_type": "code",
   "execution_count": 48,
   "id": "cb4e0afd-2017-410a-ac8c-d330ed394e34",
   "metadata": {},
   "outputs": [
    {
     "data": {
      "text/plain": [
       "[array([[ 0.,  1.,  2.],\n",
       "        [ 6.,  7.,  8.],\n",
       "        [12., 13., 14.],\n",
       "        [18., 19., 20.]]),\n",
       " array([[ 3.,  4.,  5.],\n",
       "        [ 9., 10., 11.],\n",
       "        [15., 16., 17.],\n",
       "        [21., 22., 23.]])]"
      ]
     },
     "execution_count": 48,
     "metadata": {},
     "output_type": "execute_result"
    }
   ],
   "source": [
    "np.hsplit(ary,2)"
   ]
  },
  {
   "cell_type": "markdown",
   "id": "60032ddd-fb1b-44d4-a6cd-77ab26fd4a73",
   "metadata": {},
   "source": [
    "B.Split function"
   ]
  },
  {
   "cell_type": "code",
   "execution_count": 49,
   "id": "13afb70f-3d2e-46db-9a11-4fbd45f1ba20",
   "metadata": {},
   "outputs": [
    {
     "data": {
      "text/plain": [
       "[array([10, 11]), array([12, 13, 14, 15]), array([16, 17, 18, 19])]"
      ]
     },
     "execution_count": 49,
     "metadata": {},
     "output_type": "execute_result"
    }
   ],
   "source": [
    "ar1d=[10,11,12,13,14,15,16,17,18,19]\n",
    "np.split (ar1d,[2,6]) "
   ]
  },
  {
   "cell_type": "code",
   "execution_count": 50,
   "id": "cee21141-b673-43e5-9ad7-cac9bdd59946",
   "metadata": {},
   "outputs": [
    {
     "data": {
      "text/plain": [
       "array([[ 0.,  1.,  2.,  3.,  4.,  5.],\n",
       "       [ 6.,  7.,  8.,  9., 10., 11.],\n",
       "       [12., 13., 14., 15., 16., 17.],\n",
       "       [18., 19., 20., 21., 22., 23.]])"
      ]
     },
     "execution_count": 50,
     "metadata": {},
     "output_type": "execute_result"
    }
   ],
   "source": [
    "ary=np.arange(24.0).reshape(4,6)\n",
    "ary"
   ]
  },
  {
   "cell_type": "code",
   "execution_count": 51,
   "id": "6020093d-2c6e-47a6-be1d-38da55f76c2c",
   "metadata": {},
   "outputs": [
    {
     "data": {
      "text/plain": [
       "[array([[0., 1., 2., 3., 4., 5.]]),\n",
       " array([[ 6.,  7.,  8.,  9., 10., 11.],\n",
       "        [12., 13., 14., 15., 16., 17.],\n",
       "        [18., 19., 20., 21., 22., 23.]]),\n",
       " array([], shape=(0, 6), dtype=float64)]"
      ]
     },
     "execution_count": 51,
     "metadata": {},
     "output_type": "execute_result"
    }
   ],
   "source": [
    "np.split(ary,[1,4])"
   ]
  },
  {
   "cell_type": "code",
   "execution_count": 52,
   "id": "51d287f2-f2d5-4085-8b49-a8f92bd6e820",
   "metadata": {},
   "outputs": [
    {
     "data": {
      "text/plain": [
       "[array([[ 0.,  1.],\n",
       "        [ 6.,  7.],\n",
       "        [12., 13.],\n",
       "        [18., 19.]]),\n",
       " array([[ 2.,  3.,  4.],\n",
       "        [ 8.,  9., 10.],\n",
       "        [14., 15., 16.],\n",
       "        [20., 21., 22.]]),\n",
       " array([[ 5.],\n",
       "        [11.],\n",
       "        [17.],\n",
       "        [23.]])]"
      ]
     },
     "execution_count": 52,
     "metadata": {},
     "output_type": "execute_result"
    }
   ],
   "source": [
    "np.split(ary,[2,5],axis=1)"
   ]
  },
  {
   "cell_type": "markdown",
   "id": "b777df80-dc34-4f8b-99a0-a7a068da219c",
   "metadata": {},
   "source": [
    "## Extracting condition based Non-contiguous subset"
   ]
  },
  {
   "cell_type": "code",
   "execution_count": 53,
   "id": "83d00382-99fb-46b7-ae06-9fe1c3373a3a",
   "metadata": {},
   "outputs": [
    {
     "data": {
      "text/plain": [
       "array([[ 0.,  1.,  2.,  3.,  4.,  5.],\n",
       "       [ 6.,  7.,  8.,  9., 10., 11.],\n",
       "       [12., 13., 14., 15., 16., 17.],\n",
       "       [18., 19., 20., 21., 22., 23.]])"
      ]
     },
     "execution_count": 53,
     "metadata": {},
     "output_type": "execute_result"
    }
   ],
   "source": [
    "ary"
   ]
  },
  {
   "cell_type": "code",
   "execution_count": 54,
   "id": "0abaa309-4f95-4bea-baa5-8898e247b5e5",
   "metadata": {},
   "outputs": [
    {
     "data": {
      "text/plain": [
       "array([[ True, False, False, False, False,  True],\n",
       "       [False, False, False, False,  True, False],\n",
       "       [False, False, False,  True, False, False],\n",
       "       [False, False,  True, False, False, False]])"
      ]
     },
     "execution_count": 54,
     "metadata": {},
     "output_type": "execute_result"
    }
   ],
   "source": [
    "cond=np.mod(ary,5)==0\n",
    "cond"
   ]
  },
  {
   "cell_type": "markdown",
   "id": "b26575c8-296e-4649-a0d9-7a92631368e9",
   "metadata": {},
   "source": [
    "## Arithmetic operation on 2D array"
   ]
  },
  {
   "cell_type": "code",
   "execution_count": 55,
   "id": "8c3347d9-f090-4c8d-9a39-a0baa499906f",
   "metadata": {},
   "outputs": [
    {
     "data": {
      "text/plain": [
       "array([[ 1.5,  2.5,  3.5,  4.5,  5.5,  6.5],\n",
       "       [ 7.5,  8.5,  9.5, 10.5, 11.5, 12.5],\n",
       "       [13.5, 14.5, 15.5, 16.5, 17.5, 18.5],\n",
       "       [19.5, 20.5, 21.5, 22.5, 23.5, 24.5]])"
      ]
     },
     "execution_count": 55,
     "metadata": {},
     "output_type": "execute_result"
    }
   ],
   "source": [
    "ary+1.5\n"
   ]
  },
  {
   "cell_type": "code",
   "execution_count": 56,
   "id": "46d5a8be-28d0-49df-bdf0-f49c806bf121",
   "metadata": {},
   "outputs": [
    {
     "data": {
      "text/plain": [
       "array([[ 2.1,  4.1,  6.1,  8.1, 10.1, 12.1],\n",
       "       [14.1, 16.1, 18.1, 20.1, 22.1, 24.1],\n",
       "       [26.1, 28.1, 30.1, 32.1, 34.1, 36.1],\n",
       "       [38.1, 40.1, 42.1, 44.1, 46.1, 48.1]])"
      ]
     },
     "execution_count": 56,
     "metadata": {},
     "output_type": "execute_result"
    }
   ],
   "source": [
    "new=ary+2.1\n",
    "ary+new"
   ]
  },
  {
   "cell_type": "code",
   "execution_count": 57,
   "id": "51c8d2bb-1fbb-4c0c-9f0d-9b41a1396489",
   "metadata": {},
   "outputs": [
    {
     "data": {
      "text/plain": [
       "array([[ 0.,  3.,  6.,  9., 12., 15.],\n",
       "       [18., 21., 24., 27., 30., 33.],\n",
       "       [36., 39., 42., 45., 48., 51.],\n",
       "       [54., 57., 60., 63., 66., 69.]])"
      ]
     },
     "execution_count": 57,
     "metadata": {},
     "output_type": "execute_result"
    }
   ],
   "source": [
    "np.multiply (ary,3) "
   ]
  },
  {
   "cell_type": "markdown",
   "id": "bb8bba66-3c9f-454a-936a-77f3df4c500e",
   "metadata": {},
   "source": [
    "## Application on numPy Arrays"
   ]
  },
  {
   "cell_type": "markdown",
   "id": "da1686b2-7d68-4ecc-aa00-35d228a458d6",
   "metadata": {},
   "source": [
    "1.covariance"
   ]
  },
  {
   "cell_type": "code",
   "execution_count": 58,
   "id": "267d6719-7e9e-43a7-b5d4-f4cf93867842",
   "metadata": {},
   "outputs": [
    {
     "data": {
      "text/plain": [
       "array([[ 2.5 , -4.25],\n",
       "       [-4.25,  8.3 ]])"
      ]
     },
     "execution_count": 58,
     "metadata": {},
     "output_type": "execute_result"
    }
   ],
   "source": [
    "a=np.array([1,2,3,4,5]) \n",
    "b=np.array([3,4,0,-1,-3]) \n",
    "check=np.cov(a,b) \n",
    "check "
   ]
  },
  {
   "cell_type": "markdown",
   "id": "162312d4-654f-4068-9772-a164fe3be6ab",
   "metadata": {},
   "source": [
    "## Correlation "
   ]
  },
  {
   "cell_type": "code",
   "execution_count": 59,
   "id": "b4e9e97c-28a2-468b-91b0-3c3bc27718e8",
   "metadata": {},
   "outputs": [
    {
     "data": {
      "text/plain": [
       "array([[ 1.        , -0.93299621],\n",
       "       [-0.93299621,  1.        ]])"
      ]
     },
     "execution_count": 59,
     "metadata": {},
     "output_type": "execute_result"
    }
   ],
   "source": [
    "corr=np.corrcoef (a,b) \n",
    "corr"
   ]
  },
  {
   "cell_type": "markdown",
   "id": "c9172a0e-7423-44fc-86bf-ee4c65cb6b99",
   "metadata": {},
   "source": [
    "# Thank You"
   ]
  },
  {
   "cell_type": "code",
   "execution_count": null,
   "id": "1cf805bc-9495-45de-b1ad-d2bdb31b895b",
   "metadata": {},
   "outputs": [],
   "source": []
  }
 ],
 "metadata": {
  "kernelspec": {
   "display_name": "Python [conda env:base] *",
   "language": "python",
   "name": "conda-base-py"
  },
  "language_info": {
   "codemirror_mode": {
    "name": "ipython",
    "version": 3
   },
   "file_extension": ".py",
   "mimetype": "text/x-python",
   "name": "python",
   "nbconvert_exporter": "python",
   "pygments_lexer": "ipython3",
   "version": "3.12.7"
  }
 },
 "nbformat": 4,
 "nbformat_minor": 5
}
